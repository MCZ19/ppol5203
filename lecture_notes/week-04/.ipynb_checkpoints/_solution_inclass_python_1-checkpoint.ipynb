{
 "cells": [
  {
   "cell_type": "markdown",
   "id": "54cbd41b",
   "metadata": {},
   "source": [
    "# Solutions for python in class exercise"
   ]
  },
  {
   "cell_type": "markdown",
   "id": "ff34bb97",
   "metadata": {},
   "source": [
    "### Tab a\n",
    "\n",
    "Let's practice with lists first. One way to explore data structures is to learn their methods. Check all the methods of a list by running 'dir()' on a list object. Let's explore these functions using the following list object, by answering the below questions. See [here](https://www.w3schools.com/python/python_ref_list.asp) for list methods:\n",
    "\n"
   ]
  },
  {
   "cell_type": "code",
   "execution_count": 1,
   "id": "a21b22e2",
   "metadata": {},
   "outputs": [],
   "source": [
    "list_exercise = [\"Ramy\", \"Victorie\", \"Letty\", \"Robin\", \"Antoine\", \"Griffin\"] "
   ]
  },
  {
   "cell_type": "markdown",
   "id": "9964cbf2",
   "metadata": {},
   "source": [
    "1.  Add \"Cathy O'Neil\" to the list. Insert \"Professor Crast\" as the first element of the list"
   ]
  },
  {
   "cell_type": "code",
   "execution_count": 3,
   "id": "ca885464",
   "metadata": {},
   "outputs": [
    {
     "data": {
      "text/plain": [
       "['Ramy',\n",
       " 'Victorie',\n",
       " 'Letty',\n",
       " 'Robin',\n",
       " 'Antoine',\n",
       " 'Griffin',\n",
       " \"Cathy O'neil\",\n",
       " 'Cathy Oneil']"
      ]
     },
     "execution_count": 3,
     "metadata": {},
     "output_type": "execute_result"
    }
   ],
   "source": [
    "list_exercise.append(\"Cathy O'neil\")\n",
    "list_exercise + [\"Cathy Oneil\"]"
   ]
  },
  {
   "cell_type": "code",
   "execution_count": 4,
   "id": "b2b5d6de",
   "metadata": {},
   "outputs": [
    {
     "name": "stdout",
     "output_type": "stream",
     "text": [
      "['Professor Crast', 'Ramy', 'Victorie', 'Letty', 'Robin', 'Antoine', 'Griffin', \"Cathy O'neil\"]\n"
     ]
    }
   ],
   "source": [
    "[\"Professor Crast\"] + list_exercise \n",
    "list_exercise.insert(0, \"Professor Crast\")\n",
    "print(list_exercise)"
   ]
  },
  {
   "cell_type": "markdown",
   "id": "4adb03a8",
   "metadata": {},
   "source": [
    "2. Remove \"Letty\" from the list. Also remove the last element of the list."
   ]
  },
  {
   "cell_type": "code",
   "execution_count": 5,
   "id": "52002ecd",
   "metadata": {},
   "outputs": [
    {
     "name": "stdout",
     "output_type": "stream",
     "text": [
      "['Professor Crast', 'Ramy', 'Victorie', 'Robin', 'Antoine', 'Griffin', \"Cathy O'neil\"]\n"
     ]
    }
   ],
   "source": [
    "# 1\n",
    "list_exercise.remove(\"Letty\")\n",
    "print(list_exercise)"
   ]
  },
  {
   "cell_type": "code",
   "execution_count": 6,
   "id": "a3f53bc1",
   "metadata": {},
   "outputs": [
    {
     "name": "stdout",
     "output_type": "stream",
     "text": [
      "['Professor Crast', 'Ramy', 'Victorie', 'Robin', 'Antoine', 'Griffin']\n"
     ]
    }
   ],
   "source": [
    "# 2\n",
    "list_exercise.pop()\n",
    "print(list_exercise)"
   ]
  },
  {
   "cell_type": "markdown",
   "id": "da149c4e",
   "metadata": {},
   "source": [
    "3.  Find the index of the occurrence of the name \"Robin\". Count the number of times None appears in the list."
   ]
  },
  {
   "cell_type": "code",
   "execution_count": 7,
   "id": "fecc6875",
   "metadata": {},
   "outputs": [
    {
     "name": "stdout",
     "output_type": "stream",
     "text": [
      "3\n"
     ]
    }
   ],
   "source": [
    "# solution\n",
    "index_robin = list_exercise.index(\"Robin\")\n",
    "print(index_robin)"
   ]
  },
  {
   "cell_type": "code",
   "execution_count": 8,
   "id": "936c499b",
   "metadata": {},
   "outputs": [
    {
     "data": {
      "text/plain": [
       "0"
      ]
     },
     "execution_count": 8,
     "metadata": {},
     "output_type": "execute_result"
    }
   ],
   "source": [
    "# solution\n",
    "list_exercise.count(None)"
   ]
  },
  {
   "cell_type": "markdown",
   "id": "3ea8d16e",
   "metadata": {},
   "source": [
    "4. Create a new list with the names in alphabetical order, copy this list as a new list without changing the values of the original list"
   ]
  },
  {
   "cell_type": "code",
   "execution_count": 10,
   "id": "5967f8ec",
   "metadata": {},
   "outputs": [
    {
     "data": {
      "text/plain": [
       "['Antoine', 'Griffin', 'Professor Crast', 'Ramy', 'Robin', 'Victorie']"
      ]
     },
     "execution_count": 10,
     "metadata": {},
     "output_type": "execute_result"
    }
   ],
   "source": [
    "list_copy = list_exercise.copy()\n",
    "list_copy.sort()\n",
    "list_copy"
   ]
  },
  {
   "cell_type": "markdown",
   "id": "891a5d49",
   "metadata": {},
   "source": [
    "5. Add the string \"Lovell\" to copied_list and ensure that list_exercise remains unchanged."
   ]
  },
  {
   "cell_type": "code",
   "execution_count": 11,
   "id": "93ba3496",
   "metadata": {},
   "outputs": [
    {
     "data": {
      "text/plain": [
       "['Antoine',\n",
       " 'Griffin',\n",
       " 'Professor Crast',\n",
       " 'Ramy',\n",
       " 'Robin',\n",
       " 'Victorie',\n",
       " 'Lovell']"
      ]
     },
     "execution_count": 11,
     "metadata": {},
     "output_type": "execute_result"
    }
   ],
   "source": [
    "list_copy.append(\"Lovell\")\n",
    "list_copy"
   ]
  },
  {
   "cell_type": "markdown",
   "id": "dd48e675",
   "metadata": {},
   "source": [
    "### Tab B\n",
    "\n",
    "Let's do a similar exercise with Dictionaries. Consider the dictionary below. See [here](https://www.w3schools.com/python/python_ref_dictionary.asp) for dictionary methods:"
   ]
  },
  {
   "cell_type": "code",
   "execution_count": 17,
   "id": "fd19c9d1",
   "metadata": {},
   "outputs": [
    {
     "data": {
      "text/plain": [
       "{'Ramy': 'India',\n",
       " 'Victorie': 'Haiti',\n",
       " 'Letty': 'England',\n",
       " 'Robin': 'Canton',\n",
       " 'Antoine': 'Nigeria',\n",
       " 'Griffin': 'China'}"
      ]
     },
     "execution_count": 17,
     "metadata": {},
     "output_type": "execute_result"
    }
   ],
   "source": [
    "dict_exercise = {\"Ramy\": \"India\",\n",
    "                  \"Victorie\":\"Haiti\", \n",
    "                  \"Letty\":\"England\", \n",
    "                  \"Robin\":\"Canton\", \n",
    "                  \"Antoine\":\"Nigeria\", \n",
    "                  \"Griffin\":\"China\"}\n",
    "dict_exercise"
   ]
  },
  {
   "cell_type": "markdown",
   "id": "72cc4322",
   "metadata": {},
   "source": [
    "1. Look up the keys in the dictionary, and store them in a list object called keys"
   ]
  },
  {
   "cell_type": "code",
   "execution_count": 20,
   "id": "53542312",
   "metadata": {},
   "outputs": [
    {
     "name": "stdout",
     "output_type": "stream",
     "text": [
      "['Ramy', 'Victorie', 'Letty', 'Robin', 'Antoine', 'Griffin', 'tiago']\n"
     ]
    }
   ],
   "source": [
    "keys = list(dict_exercise.keys())\n",
    "print(keys)"
   ]
  },
  {
   "cell_type": "markdown",
   "id": "13e326b3",
   "metadata": {},
   "source": [
    "2. Add yourself, and two other colleagues in this dictionary. The values are the countries the person in the key was born."
   ]
  },
  {
   "cell_type": "code",
   "execution_count": 19,
   "id": "7edbd1de",
   "metadata": {},
   "outputs": [],
   "source": [
    "dict_exercise[\"tiago\"]=\"Brazil\""
   ]
  },
  {
   "cell_type": "markdown",
   "id": "599c8e81",
   "metadata": {},
   "source": [
    "3.  Remove \"Ramy\" from the dictionary, and save as another dictionary"
   ]
  },
  {
   "cell_type": "code",
   "execution_count": 16,
   "id": "f5dc2e5c",
   "metadata": {},
   "outputs": [
    {
     "ename": "KeyError",
     "evalue": "'Ramy'",
     "output_type": "error",
     "traceback": [
      "\u001b[0;31m---------------------------------------------------------------------------\u001b[0m",
      "\u001b[0;31mKeyError\u001b[0m                                  Traceback (most recent call last)",
      "Cell \u001b[0;32mIn[16], line 5\u001b[0m\n\u001b[1;32m      2\u001b[0m dict_new\u001b[38;5;241m=\u001b[39m{\u001b[38;5;124m\"\u001b[39m\u001b[38;5;124mRamy\u001b[39m\u001b[38;5;124m\"\u001b[39m:dict_exercise\u001b[38;5;241m.\u001b[39mget(\u001b[38;5;124m\"\u001b[39m\u001b[38;5;124mRamy\u001b[39m\u001b[38;5;124m\"\u001b[39m)}\n\u001b[1;32m      4\u001b[0m \u001b[38;5;66;03m# pop\u001b[39;00m\n\u001b[0;32m----> 5\u001b[0m dict_exercise\u001b[38;5;241m.\u001b[39mpop(\u001b[38;5;124m\"\u001b[39m\u001b[38;5;124mRamy\u001b[39m\u001b[38;5;124m\"\u001b[39m)\n\u001b[1;32m      6\u001b[0m \u001b[38;5;28mprint\u001b[39m(dict_exercise)\n\u001b[1;32m      8\u001b[0m \u001b[38;5;66;03m# del\u001b[39;00m\n",
      "\u001b[0;31mKeyError\u001b[0m: 'Ramy'"
     ]
    }
   ],
   "source": [
    "# create new\n",
    "dict_new={\"Ramy\":dict_exercise.get(\"Ramy\")}\n",
    "\n",
    "# pop\n",
    "dict_exercise.pop(\"Ramy\")\n",
    "print(dict_exercise)\n",
    "\n",
    "# del\n",
    "del dict_exercise[\"Victorie\"]\n",
    "print(dict_exercise)"
   ]
  },
  {
   "cell_type": "markdown",
   "id": "d1c8f86a",
   "metadata": {},
   "source": [
    "### Tab C\n",
    "\n",
    "Let's now play around with some string methods. See the string below from the book \"Babel:An Arcane History\". See [here](https://www.w3schools.com/python/python_ref_string.asp) for string methods:"
   ]
  },
  {
   "cell_type": "code",
   "execution_count": 21,
   "id": "de29a69a",
   "metadata": {},
   "outputs": [],
   "source": [
    "babel = \"\"\"\n",
    "That's just what translation is, I think. That's all speaking is. \n",
    "Listening to the other and trying to see past your own biases to glimpse what they're trying to say. \n",
    "Showing yourself to the world, and hoping someone else understands.\"\n",
    "\"\"\""
   ]
  },
  {
   "cell_type": "markdown",
   "id": "0954a0d2",
   "metadata": {},
   "source": [
    "1. Determine if the word \"Babel\" is present in the string."
   ]
  },
  {
   "cell_type": "code",
   "execution_count": null,
   "id": "70404c0c",
   "metadata": {},
   "outputs": [],
   "source": [
    "\"Babel\" in babel"
   ]
  },
  {
   "cell_type": "markdown",
   "id": "dd2d0fe4",
   "metadata": {},
   "source": [
    "2. Count how many times the word \"translation\" appears"
   ]
  },
  {
   "cell_type": "code",
   "execution_count": null,
   "id": "345297fd",
   "metadata": {},
   "outputs": [],
   "source": [
    "# count\n",
    "babel.count(\"translation\")\n",
    "\n",
    "# where\n",
    "babel.index(\"translation\")\n",
    "\n",
    "# see\n",
    "babel[17:17+len(\"translation\")]"
   ]
  },
  {
   "cell_type": "markdown",
   "id": "d475719f",
   "metadata": {},
   "source": [
    "3. Convert the entire string to upper case"
   ]
  },
  {
   "cell_type": "code",
   "execution_count": null,
   "id": "99a6c450",
   "metadata": {},
   "outputs": [],
   "source": [
    "babel.upper()"
   ]
  },
  {
   "cell_type": "markdown",
   "id": "cc6fc13f",
   "metadata": {},
   "source": [
    "4. Convert the pronoum \"I\" to \"We\" in the entire text."
   ]
  },
  {
   "cell_type": "code",
   "execution_count": null,
   "id": "096fe3e0",
   "metadata": {},
   "outputs": [],
   "source": [
    "babel.replace(\"I \", \"We \")"
   ]
  },
  {
   "cell_type": "markdown",
   "id": "8a974e7a",
   "metadata": {},
   "source": [
    "5. Strip any punctuation (like commas, exclamation marks, etc.) from the string."
   ]
  },
  {
   "cell_type": "code",
   "execution_count": null,
   "id": "17532908",
   "metadata": {},
   "outputs": [],
   "source": [
    "# Define a string containing some punctuation marks.\n",
    "punctuation = \",'.!\"\n",
    "\n",
    "# Iterate over: we will see this later. \n",
    "for char in punctuation:\n",
    "    babel = babel.replace(char, \"\")\n",
    "    \n",
    "print(babel)    \n"
   ]
  }
 ],
 "metadata": {
  "kernelspec": {
   "display_name": "Python 3 (ipykernel)",
   "language": "python",
   "name": "python3"
  },
  "language_info": {
   "codemirror_mode": {
    "name": "ipython",
    "version": 3
   },
   "file_extension": ".py",
   "mimetype": "text/x-python",
   "name": "python",
   "nbconvert_exporter": "python",
   "pygments_lexer": "ipython3",
   "version": "3.11.4"
  }
 },
 "nbformat": 4,
 "nbformat_minor": 5
}
