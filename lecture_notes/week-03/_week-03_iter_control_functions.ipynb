{
  "cells": [
    {
      "cell_type": "raw",
      "metadata": {},
      "source": [
        "---\n",
        "title: \"Week 3: Intro to Python - Control Statements and Functions\"\n",
        "execute: \n",
        "  error: true\n",
        "format:\n",
        "  html:\n",
        "    code-tools: true\n",
        "editor_options: \n",
        "  chunk_output_type: console\n",
        "---"
      ],
      "id": "f2b2f2c3"
    },
    {
      "cell_type": "markdown",
      "metadata": {},
      "source": [
        "## Learning Objectives\n",
        "\n",
        "For the second half of the week three class, we will go over some concepts that are very general over any programming language. These are:\n",
        "\n",
        "-   Explore iterating through containers using **loops**\n",
        "-   Using **logical operators** for comparisons.\n",
        "-   Control the behavior of code when iterating using **control statements**.\n",
        "-   Defining **functions** to make code more flexible, debuggable, and readable.\n",
        "\n",
        "## Comparison Operators\n",
        "\n",
        "Comparison operators check whether a relationship holds between two objects. Since the relationship either holds or doesn't hold, these operators always return Boolean values. See below for a list of these operators\n",
        "\n",
        "| Operator     | Property                |\n",
        "|--------------|-------------------------|\n",
        "| **`==`**     | (value) equivalence     |\n",
        "| **`>`**      | greater than            |\n",
        "| **`<`**      | strictly less than      |\n",
        "| **`<=`**     | less than or equal      |\n",
        "| **`>`**      | strictly greater than   |\n",
        "| **`>=`**     | greater than or equal   |\n",
        "| **`!=`**     | Not Equals              |\n",
        "| **`is`**     | object identity         |\n",
        "| **`is not`** | negated object identity |\n",
        "| **`in`**     | membership in           |\n",
        "| **`not in`** | negated membership in   |\n"
      ],
      "id": "3a962d1b"
    },
    {
      "cell_type": "code",
      "metadata": {},
      "source": [
        "# Some examples\n",
        "\n",
        "# Comparisons\n",
        "x = 7\n",
        "y = 6\n",
        "\n",
        "# simple comparisons\n",
        "x >= y\n",
        "x > y\n",
        "x < y\n",
        "x <= y\n",
        "\n",
        "# \"in\" for contains\n",
        "\"d\" in [\"x\",\"a\",\"v\"]"
      ],
      "id": "ed4cbe62",
      "execution_count": null,
      "outputs": []
    },
    {
      "cell_type": "markdown",
      "metadata": {},
      "source": [
        "### Boolean Comparison\n",
        "\n",
        "Another type of operators are those that take as input boolen types and return as outputs the data types. These are often super useful when we are working with recoding of multiple variables. See table below:\n",
        "\n",
        "| Operator | Logical Operation |\n",
        "|----------|-------------------|\n",
        "| `and`    | Conjunction       |\n",
        "| `or`     | Disjunction       |\n",
        "| `not`    | Negation          |\n"
      ],
      "id": "ed275d55"
    },
    {
      "cell_type": "code",
      "metadata": {},
      "source": [
        "# examples\n",
        "\n",
        "# and\n",
        "True and False\n",
        "\n",
        "# or\n",
        "True  or False"
      ],
      "id": "1a1bcad4",
      "execution_count": null,
      "outputs": []
    },
    {
      "cell_type": "markdown",
      "metadata": {},
      "source": [
        "> All this is barely scratching the surface [**For a in-depth discussion of comparison operators in python, see here.**](https://realpython.com/python-boolean/#boolean-operators)\n",
        "\n",
        "## Conditional Statements\n",
        "\n",
        "Any programming language needs statements that controls the sequence of execution of a particular piece of code. These statements are called control statements, and they enable you to write programs that can perform different actions based on different inputs or situations. A `for loop` is a type of of control statement.\n",
        "\n",
        "The most common control statements are `conditional statements`. The name speaks by itself: these statements control when a program run conditional on meeting a certain criteria. The most popular conditional statements are `if`, `elif`, and `else` statements.\n",
        "\n",
        "These statements have the following structure:\n"
      ],
      "id": "84196d90"
    },
    {
      "cell_type": "code",
      "metadata": {},
      "source": [
        "#| eval: false\n",
        "if <logical statement>:\n",
        "  ~~~~ CODE ~~~~\n",
        "elif <logical statement>:\n",
        "  ~~~~ CODE ~~~~\n",
        "else:\n",
        "  ~~~~ CODE ~~~~"
      ],
      "id": "04f98582",
      "execution_count": null,
      "outputs": []
    },
    {
      "cell_type": "markdown",
      "metadata": {},
      "source": [
        "::: callout-warning\n",
        "Notice the indentation in the code blocks of the conditional statements!\n",
        ":::\n",
        "\n",
        "### `if` statement\n",
        "\n",
        "The `if` statement evaluates an expression, and if that expression is `True`, it then executes the following indented code. If the expression is `False`, nothing is executed\n"
      ],
      "id": "08e08f05"
    },
    {
      "cell_type": "code",
      "metadata": {},
      "source": [
        "# most basic statement\n",
        "if True:\n",
        "    print(\"This statement is True\")"
      ],
      "id": "e45dbb3a",
      "execution_count": null,
      "outputs": []
    },
    {
      "cell_type": "code",
      "metadata": {},
      "source": [
        "# with a number\n",
        "x = 5\n",
        "if x > 10: # state some condition\n",
        "    print(\"High\")"
      ],
      "id": "38e05b27",
      "execution_count": null,
      "outputs": []
    },
    {
      "cell_type": "markdown",
      "metadata": {},
      "source": [
        "### `else` statement\n",
        "\n",
        "The `else` statement executes only if the evaluation of the `if` and all the `elif` expressions are False. It is a negation statement by nature.\n"
      ],
      "id": "3d8bbf8d"
    },
    {
      "cell_type": "code",
      "metadata": {},
      "source": [
        "# with a number\n",
        "x = 5\n",
        "if x > 10: # state some condition\n",
        "    print(\"High\")\n",
        "else:\n",
        "    print(\"Low\")"
      ],
      "id": "1653e817",
      "execution_count": null,
      "outputs": []
    },
    {
      "cell_type": "markdown",
      "metadata": {},
      "source": [
        "### `elif` statement\n",
        "\n",
        "`elif` stands for else if in plain english. It allows the programmer to concatenate multiple conditional statements. Only after the `if` statement expression is `False`, the `elif` statement is evaluated and executed\n"
      ],
      "id": "aa1a6b82"
    },
    {
      "cell_type": "code",
      "metadata": {},
      "source": [
        "x = 5\n",
        "if x is None:\n",
        "    print(\"A\")\n",
        "elif x < 0:\n",
        "    print(\"B\")\n",
        "elif x >10:\n",
        "    print(\"C\")\n",
        "else:\n",
        "    print(\"D\")"
      ],
      "id": "6d226dae",
      "execution_count": null,
      "outputs": []
    },
    {
      "cell_type": "markdown",
      "metadata": {},
      "source": [
        "Notice you can arrive at the same behavior with nested `if` statements.\n"
      ],
      "id": "f4ffada7"
    },
    {
      "cell_type": "code",
      "metadata": {},
      "source": [
        "x=5\n",
        "\n",
        "# same, but uglier version of the control flow above. \n",
        "if x is none:\n",
        "  print(\"A\")\n",
        "    if x < 0:\n",
        "      print(\"B\")\n",
        "        if x >10:\n",
        "          print(\"C\")\n",
        "else:\n",
        "  print(\"D\")\n"
      ],
      "id": "9cd4269c",
      "execution_count": null,
      "outputs": []
    },
    {
      "cell_type": "markdown",
      "metadata": {},
      "source": [
        "## Iteration\n",
        "\n",
        "A basic building block of any program is to be to be able to repeat some code over and over again. Whether it is to collect data for a list of websites, apply some function to a sequence of dataframes, or retrieve information form a set of different models, we are often interested as data scientist in repeating a certain action through a sequence of unit. This process is called **iteration** and it is often performed using a `loop` function.\n",
        "\n",
        "### for loops\n",
        "\n",
        "**Iteration** in a basic sense is simply taking one item at a time from a collection. We start at the beginning of the collection and mover through it until we reach the end. Any time we use a loop we are going over each and every item in collection\n",
        "\n",
        "In python, we can iterator over any non-scaler class with an `iter()` associated method. Examples are:\n",
        "\n",
        "-   lists\n",
        "\n",
        "-   strings\n",
        "\n",
        "-   dictionaries\n",
        "\n",
        "-   file connections\n",
        "\n",
        "-   grouped pandas df\n",
        "\n",
        "#### for loop with lists\n"
      ],
      "id": "ce051c0e"
    },
    {
      "cell_type": "code",
      "metadata": {},
      "source": [
        "# create a list\n",
        "my_list = [1, 2, 3, 4, 5]\n",
        "\n",
        "# iterate\n",
        "for m in my_list:\n",
        "  print(m)"
      ],
      "id": "e29e57d7",
      "execution_count": null,
      "outputs": []
    },
    {
      "cell_type": "markdown",
      "metadata": {},
      "source": [
        "#### for loop with strings\n"
      ],
      "id": "da3cca79"
    },
    {
      "cell_type": "code",
      "metadata": {},
      "source": [
        "# create a list\n",
        "my_string = \"Georgetown\"\n",
        "\n",
        "# iterate\n",
        "for letter in my_string:\n",
        "  print(letter)"
      ],
      "id": "cfb5c25c",
      "execution_count": null,
      "outputs": []
    },
    {
      "cell_type": "markdown",
      "metadata": {},
      "source": [
        "#### for loop with `range()`\n",
        "\n",
        "Another container with the type of sequences used to express arithmetic progression of integers\n"
      ],
      "id": "4eaee522"
    },
    {
      "cell_type": "code",
      "metadata": {},
      "source": [
        "# one value 0 to 10\n",
        "for i in range(10):\n",
        "    print(i)"
      ],
      "id": "aea13f9e",
      "execution_count": null,
      "outputs": []
    },
    {
      "cell_type": "markdown",
      "metadata": {},
      "source": [
        "The instance from a `range()` is just a simple iterator\n"
      ],
      "id": "ed88cf95"
    },
    {
      "cell_type": "code",
      "metadata": {},
      "source": [
        "# create a range\n",
        "iter_ = range(10)\n",
        "iter_[0]\n",
        "iter_[1]\n",
        "\n",
        "# we can convert to a list to see the object\n",
        "list(iter_)"
      ],
      "id": "a2e8934e",
      "execution_count": null,
      "outputs": []
    },
    {
      "cell_type": "markdown",
      "metadata": {},
      "source": [
        "#### for loop with `enumerate()`\n",
        "\n",
        "The enumerate function converts an iterable object in a tuple with a index and the iterator\n"
      ],
      "id": "f2ff0e94"
    },
    {
      "cell_type": "code",
      "metadata": {},
      "source": [
        "# create a string\n",
        "iterable = \"McCourt\"\n",
        "\n",
        "# enumerate\n",
        "for index, letter in enumerate(iterable):\n",
        "  print(f'index = {index}; value == {letter}')"
      ],
      "id": "5edcaeb4",
      "execution_count": null,
      "outputs": []
    },
    {
      "cell_type": "markdown",
      "metadata": {},
      "source": [
        "::: {callout-note}\n",
        "A `for` loop is just another control statement. At its most basic sense, as a programmer, you are asking for a particular program to iterate over a sequence of values.\n",
        ":::\n",
        "\n",
        "### In-depth understanding of loops\n",
        "\n",
        "We just learned in practive how loops work. Let's break down a bit more so that we actually grasp what is going on behind the scenes here.\n",
        "\n",
        "#### Syntax\n",
        "\n",
        "First, let's fully understand the syntax of a loop. A loop had the following syntax:\n",
        "\n",
        "```         \n",
        "for <var> in <iterable>:\n",
        "    <statement(s)>\n",
        "```\n",
        "\n",
        "-   `<iterable>`: is a collection of objects. This is the container through which our loop is navigating element-wise\n",
        "-   `<statement(s)>`: this is the juice. It is a sequence of code that describes what is the action our program wants to repeat for each component of the iterable. Notice, `<statements>` in the loop body are denoted by indentation, as with all Python control structures.\n",
        "-   `<var>`: it is a local value for every of the next element in <iterable> each time through the loop.\n",
        "\n",
        "#### Iterator\n",
        "\n",
        "**iterable** is any object that contains the `__iter__` methods. This method returns an \"**iterator**\" object. An **iterator** object has a special method called `__next__()`, which summons each item in the collection one at a time.\n"
      ],
      "id": "2323f791"
    },
    {
      "cell_type": "code",
      "metadata": {},
      "source": [
        "# create a iterable\n",
        "my_list = [\"UFPA\", \"UERJ\", \"UMD\", \"NYU\", \"Georgetown\"]\n",
        "print(my_list)\n",
        "\n",
        "# convert to a iterator\n",
        "iter(my_list)\n",
        "my_list.__iter__()\n",
        "\n",
        "# iterate over the elements\n",
        "iter_my_list = iter(my_list)\n",
        "\n",
        "# first\n",
        "next(iter_my_list)\n",
        "\n",
        "# first\n",
        "next(iter_my_list)\n",
        "\n",
        "# second\n",
        "next(iter_my_list)\n",
        "\n",
        "# third\n",
        "next(iter_my_list)\n",
        "\n",
        "# fourth\n",
        "next(iter_my_list)\n",
        "\n",
        "# firth: stop iteration\n",
        "next(iter_my_list)"
      ],
      "id": "f161d15c",
      "execution_count": null,
      "outputs": []
    },
    {
      "cell_type": "markdown",
      "metadata": {},
      "source": [
        "**So what does a `for` loop do?**\n",
        "\n",
        "1.  The `for` statement calls `iter()` on the container object (e.g. a list).\n",
        "2.  The function returns an iterator object that defines the method `__next__()` which accesses elements in the container *one at a time*.\n",
        "3.  When there are no more elements, `__next__()` raises a `StopIteration` exception which tells the `for` loop to terminate.\n",
        "\n",
        "### While loops\n",
        "\n",
        "For loops are literally iterations. While loops are all about repetitions. These loops are super useful when we have some target and want to keep our program running up to certain threeshold. For example, while loops are heavily used in maximization functions, in which we keep the algorithm running until our error function is at a minimum/maximum.\n"
      ],
      "id": "c1e8d2c1"
    },
    {
      "cell_type": "code",
      "metadata": {},
      "source": [
        "x = 0\n",
        "while x < 5:\n",
        "    print(\"This\")\n",
        "    x += 1"
      ],
      "id": "3d9fc6c7",
      "execution_count": null,
      "outputs": []
    },
    {
      "cell_type": "markdown",
      "metadata": {},
      "source": [
        "**Remember to increment your condition** and avoid an infinite loop.\n",
        "\n",
        "## User Defined Functions\n",
        "\n",
        "Most often when we start our first steps as data scientists (particularly for those like me coming from a non-computer science background), we learn to write code in two basic steps: write code sequentially to solve your immediate needs, and reuse this code for similar tasks. With that in mind, our code usually becomes unecessarily long, repetitive and hard to read.\n",
        "\n",
        "**What is the problem of a long and repetitive code?** You can execute the same task with a long, repetitive code than with a modular, function-based implementation. However, a sequential and repetitive code exposes you as a data scientist to errors you want to avoid. These are:\n",
        "\n",
        "-   Lack of general utility.\n",
        "-   Need to edit/copy/paste your code every time you want to **reuse it.**\n",
        "-   Need to re-write the code when you need to make small extenstion\n",
        "-   **More important**: The more code a program contains, the more chance there is for something to go wrong, and the harder the code is to maintain.\n",
        "\n",
        "For this reason, the single best thing you can do to make your code more professional is to encapsulate your code in smaller, independent parts. This is usually refereed as [modularity](https://www.kaggle.com/code/rtatman/six-steps-to-more-professional-data-science-code) in programming, and it is achieved by writing your own user-defined functions.\n",
        "\n",
        "::: callout-warning\n",
        "## When should I transform my code into a function?\n",
        "\n",
        "Once you find yourself copying the same code more than once or twice, it's time to sink some time into writing a function.\n",
        ":::\n",
        "\n",
        "### Functions in Python.\n",
        "\n",
        "A function is a chunk of code that performs some operation. Python comes with several built-in functions. These are standard functions (`type()`, `str()`, `float()`, etc..) or methods associated with native python classes (`str.capitalize()`,`list.append()`, etc...)\n",
        "\n",
        "In addition you can create your own functions through:\n",
        "\n",
        "-   function definition with `def()`\n",
        "\n",
        "-   anonymous functions with `lambda functions`\n",
        "\n",
        "#### `def()`\n"
      ],
      "id": "1be0e6d0"
    },
    {
      "cell_type": "code",
      "metadata": {},
      "source": [
        "# create a square function\n",
        "def square(x):\n",
        "    y = x*x\n",
        "    return y\n",
        "\n",
        "# run\n",
        "square(10)"
      ],
      "id": "4bc7d183",
      "execution_count": null,
      "outputs": []
    },
    {
      "cell_type": "markdown",
      "metadata": {},
      "source": [
        "The code block above has the following elements:\n",
        "\n",
        "-   **`def`**: keyword for generating a function\n",
        "\n",
        "    -   `def` + some_name + `()` + `:` to set up a function header\n",
        "\n",
        "-   **Arguments**: things we want to feed into the function and do something to.\n",
        "\n",
        "-   **`return`**: keyword for returning a specific value from a function\n",
        "\n",
        "##### Docstrings\n",
        "\n",
        "Help yourself and others who will use your functions in the future. A good practice is to use docstrings to describe your function behavior, inputs, and outputs. Docstrings are strings that occur as the first statement within a named function block.\n"
      ],
      "id": "a6690130"
    },
    {
      "cell_type": "code",
      "metadata": {},
      "source": [
        "#| eval: false\n",
        "def function_name(input):\n",
        "    '''\n",
        "    Your docstring goes here.\n",
        "    '''\n",
        "    |\n",
        "    |\n",
        "    | Function block\n",
        "    |\n",
        "    |\n",
        "    return something "
      ],
      "id": "2f0bc27d",
      "execution_count": null,
      "outputs": []
    },
    {
      "cell_type": "markdown",
      "metadata": {},
      "source": [
        "**The goal of the docstring is to tell us what the function *does*.** We can request a functions docstring using the `help()` function.\n"
      ],
      "id": "3612d94c"
    },
    {
      "cell_type": "code",
      "metadata": {},
      "source": [
        "def square(x):\n",
        "  '''\n",
        "  Takes the square of a number\n",
        "  input: int object\n",
        "  outpur: int object\n",
        "  '''\n",
        "  y = x*x\n",
        "  return y\n",
        "\n",
        "help(square)"
      ],
      "id": "abcd111b",
      "execution_count": null,
      "outputs": []
    },
    {
      "cell_type": "markdown",
      "metadata": {},
      "source": [
        "#### Arguments\n",
        "\n",
        "Arguments are all the input values that lie inside the parentheses.\n",
        "\n",
        "```         \n",
        "`def fun(argument_1,argument_2):`\n",
        "```\n",
        "\n",
        "We can supply **default values** to one or all arguments; in doing so, we've specified a default argument.\n",
        "\n",
        "```         \n",
        "`def fun(argument_1 = \"default 1\",argument_2 = \"default 2\"):`\n",
        "```\n"
      ],
      "id": "62df9d88"
    },
    {
      "cell_type": "code",
      "metadata": {},
      "source": [
        "def fun(a,b=\"\"):\n",
        "  pass"
      ],
      "id": "de3efce1",
      "execution_count": null,
      "outputs": []
    },
    {
      "cell_type": "markdown",
      "metadata": {},
      "source": [
        "-   argument `a` is called a **positional argument** (`*arg`). We provide value to it by matching the position in the sequence.\n",
        "-   argument `b` is called a **keyword argument** (`**kwargs`). Because we give it a default value.\n",
        "\n",
        "Keyword arguments must ***come after*** positional arguments, or python will throw a SyntaxError.\n",
        "\n",
        "::: callout-warning\n",
        "What is the `pass` statement in the chunk above?\n",
        ":::\n",
        "\n",
        "#### Returning Multiple Arguments\n",
        "\n",
        "Python function can return multiple arguments. That possibility gives you a lot of flexibility when programming in Python. This is an important difference between Python and R, since R functions don't return multiple objects in the strict sense.\n"
      ],
      "id": "589b906c"
    },
    {
      "cell_type": "code",
      "metadata": {},
      "source": [
        "def raise_both(value1, value2):\n",
        "  \"\"\"Raise value1 to the power of value2\n",
        "  and vice versa.\"\"\"\n",
        "  new_value1 = value1 ** value2\n",
        "  new_value2 = value2 ** value1\n",
        "  return (new_value1, new_value2)\n",
        "\n",
        "value1, value2 = raise_both(2, 3)\n",
        "print(value1)\n",
        "print(value2)"
      ],
      "id": "2bcd3c4f",
      "execution_count": null,
      "outputs": []
    },
    {
      "cell_type": "markdown",
      "metadata": {},
      "source": [
        "Under the hood, you are using a tuple as a return object, and unpacking the tuple in the assignment.\n",
        "\n",
        "#### Scoping\n",
        "\n",
        "A scope is part of the program where an object or name may be accessible in Python. Not all objects can be accessed in the same way, and live in the same environment.\n",
        "\n",
        "There are three main scopes we are interested :\n",
        "\n",
        "1.  Local: name is defined inside the current function\n",
        "2.  Global: Any and all names defined at the top level of a module.\n",
        "3.  Built-in: names \"built into\" python through the builtins module\n",
        "\n",
        "::: callout-tip\n",
        "Note that `for` loops and code blocks ***do not*** introduce new nested scopes. We can alter the rules slightly when need by using the `global` and `local` calls\n",
        ":::\n",
        "\n",
        "Let's check this code showing case a local variables\n"
      ],
      "id": "166212a1"
    },
    {
      "cell_type": "code",
      "metadata": {},
      "source": [
        "# new_val is local \n",
        "\n",
        "#create function\n",
        "def square(value):\n",
        "  \"\"\"Returns the square of a number.\"\"\"\n",
        "  new_val = value ** 2\n",
        "  return new_val\n",
        "# run\n",
        "square(3)\n",
        "\n",
        "# print new_val\n",
        "print(new_val)"
      ],
      "id": "81dd3786",
      "execution_count": null,
      "outputs": []
    },
    {
      "cell_type": "code",
      "metadata": {},
      "source": [
        "# create a global variabl\n",
        "new_val = 10\n",
        "\n",
        "# write the same function (nor necessary)\n",
        "def square(value):\n",
        "  \"\"\"Returns the square of a number.\"\"\"\n",
        "  new_val = value ** 2\n",
        "  return new_val\n",
        "\n",
        "# run\n",
        "square(3)\n",
        "\n",
        "# print var\n",
        "print(new_val)"
      ],
      "id": "9909d138",
      "execution_count": null,
      "outputs": []
    },
    {
      "cell_type": "markdown",
      "metadata": {},
      "source": [
        "**What if we want to access a global variables from a local scope?**\n"
      ],
      "id": "e14563d3"
    },
    {
      "cell_type": "code",
      "metadata": {},
      "source": [
        "a = 0\n",
        "\n",
        "def my_function():\n",
        "    print(a)\n",
        "\n",
        "my_function()"
      ],
      "id": "e0a91fd7",
      "execution_count": null,
      "outputs": []
    },
    {
      "cell_type": "markdown",
      "metadata": {},
      "source": [
        "And what about this program?\n"
      ],
      "id": "e341168c"
    },
    {
      "cell_type": "code",
      "metadata": {},
      "source": [
        "a = 0\n",
        "\n",
        "def my_function():\n",
        "    a = 3\n",
        "    print(a)\n",
        "\n",
        "my_function()\n",
        "\n",
        "print(a)"
      ],
      "id": "991162d2",
      "execution_count": null,
      "outputs": []
    },
    {
      "cell_type": "markdown",
      "metadata": {},
      "source": [
        "And modify a global variable?\n"
      ],
      "id": "9676729a"
    },
    {
      "cell_type": "code",
      "metadata": {},
      "source": [
        "a = 0\n",
        "\n",
        "def my_function():\n",
        "    global a\n",
        "    a = 3\n",
        "    print(a)\n",
        "\n",
        "my_function()\n",
        "\n",
        "print(a)"
      ],
      "id": "52ffe79e",
      "execution_count": null,
      "outputs": []
    },
    {
      "cell_type": "markdown",
      "metadata": {},
      "source": [
        "::: callout-warning\n",
        "> From Python Documentation: it is usually very bad practice to access global variables from inside functions, and even worse practice to modify them. This makes it difficult to arrange our program into logically encapsulated parts which do not affect each other in unexpected ways. If a function needs to access some external value, we should pass the value into the function as a parameter.\n",
        ":::\n",
        "\n",
        "Refer to the python documentation for a more [detailed outline](https://python-textbok.readthedocs.io/en/1.0/Variables_and_Scope.html) of scoping conditions in python.\n",
        "\n",
        "#### Lambda functions\n",
        "\n",
        "In addition to user defined functions, Python also supports the use of **anonymous functions**, or so-called **lambda functions**. These are essentially straightforward functions that comprise only one statement, and the value returned by that statement becomes the function's result. These functions are referred to as anonymous because they lack a formal name or identifier. To define such functions, the lambda keyword is employed, which serves the sole purpose of indicating the declaration of an anonymous function.\n",
        "\n",
        "```         \n",
        "  `lambda x: x*2`\n",
        "  `lambda args: return value`\n",
        "```\n"
      ],
      "id": "4af405e9"
    },
    {
      "cell_type": "code",
      "metadata": {},
      "source": [
        "# user-defined\n",
        "def square(value):\n",
        "  \"\"\"Returns the square of a number.\"\"\"\n",
        "  new_val = value ** 2\n",
        "  return new_val\n",
        "\n",
        "#lambda function\n",
        "type(lambda x: x^2)"
      ],
      "id": "68840ea4",
      "execution_count": null,
      "outputs": []
    },
    {
      "cell_type": "markdown",
      "metadata": {},
      "source": [
        "::: callout-warning\n",
        "Notice that the output of a lambda function is a function. This function returns the `return_value` of the lambda functions\n",
        ":::\n",
        "\n",
        "**Using a lambda function**\n"
      ],
      "id": "b2c3c495"
    },
    {
      "cell_type": "code",
      "metadata": {},
      "source": [
        "#create a funnction from a lambda function -- this makes no sense\n",
        "square=lambda x: x**2\n",
        "square(2)\n",
        "\n",
        "# encapsulating on parenthesis\n",
        "(lambda x: x**2)(2)"
      ],
      "id": "13a599b0",
      "execution_count": null,
      "outputs": []
    },
    {
      "cell_type": "markdown",
      "metadata": {},
      "source": [
        "By itself, lambda functions are not super powerful. However, these shortcuts become very handy when combined with higher-order functions, which are functions that take other functions as input. For example, using the `map()` high-order function that applies a function to ALL elements in the sequence.\n"
      ],
      "id": "89a72e00"
    },
    {
      "cell_type": "code",
      "metadata": {},
      "source": [
        "nums = [48, 6, 9, 21, 1]\n",
        "square_all = map(lambda x: x ** 2, nums)\n",
        "print(list(square_all))"
      ],
      "id": "b16eba3d",
      "execution_count": null,
      "outputs": []
    }
  ],
  "metadata": {
    "kernelspec": {
      "name": "python3",
      "language": "python",
      "display_name": "Python 3 (ipykernel)"
    }
  },
  "nbformat": 4,
  "nbformat_minor": 5
}