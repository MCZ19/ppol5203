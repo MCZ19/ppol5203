{
 "cells": [
  {
   "cell_type": "code",
   "execution_count": 1,
   "id": "78a56082",
   "metadata": {},
   "outputs": [
    {
     "ename": "NameError",
     "evalue": "name 'smf' is not defined",
     "output_type": "error",
     "traceback": [
      "\u001b[0;31m---------------------------------------------------------------------------\u001b[0m",
      "\u001b[0;31mNameError\u001b[0m                                 Traceback (most recent call last)",
      "Cell \u001b[0;32mIn[1], line 2\u001b[0m\n\u001b[1;32m      1\u001b[0m \u001b[38;5;28;01mimport\u001b[39;00m \u001b[38;5;21;01mmatplotlib\u001b[39;00m\u001b[38;5;21;01m.\u001b[39;00m\u001b[38;5;21;01mpyplot\u001b[39;00m \u001b[38;5;28;01mas\u001b[39;00m \u001b[38;5;21;01mplt\u001b[39;00m\n\u001b[0;32m----> 2\u001b[0m model_ols_int2\u001b[38;5;241m=\u001b[39m smf\u001b[38;5;241m.\u001b[39mols(formula\u001b[38;5;241m=\u001b[39m\u001b[38;5;124m'\u001b[39m\u001b[38;5;124mtarget ~ age + sex + bmi + bp + age*bmi + age*sex\u001b[39m\u001b[38;5;124m'\u001b[39m, data\u001b[38;5;241m=\u001b[39mdiabetes)\u001b[38;5;241m.\u001b[39mfit()\n\u001b[1;32m      4\u001b[0m diabetes[\u001b[38;5;124m\"\u001b[39m\u001b[38;5;124mols_pred\u001b[39m\u001b[38;5;124m\"\u001b[39m] \u001b[38;5;241m=\u001b[39m model_ols\u001b[38;5;241m.\u001b[39mfittedvalues\n\u001b[1;32m      6\u001b[0m \u001b[38;5;66;03m# plot\u001b[39;00m\n",
      "\u001b[0;31mNameError\u001b[0m: name 'smf' is not defined"
     ]
    }
   ],
   "source": [
    "import matplotlib.pyplot as plt\n",
    "model_ols_int2= smf.ols(formula='target ~ age + sex + bmi + bp + age*bmi + age*sex', data=diabetes).fit()\n",
    "print(\"R2: \", model_ols_int2.rsquared)\n",
    "\n",
    "diabetes[\"ols_pred\"] = model_ols_int2.fittedvalues\n",
    "\n",
    "# plot\n",
    "(ggplot(diabetes, aes(y=\"ols_pred\", x=\"target\")) +\n",
    " geom_point() +\n",
    " geom_abline(intercept = 0, slope = 1, size = 0.5) +\n",
    " ylim(0,350) +\n",
    " xlim(0,350)\n",
    ")"
   ]
  },
  {
   "cell_type": "markdown",
   "id": "1b3d00ca",
   "metadata": {},
   "source": [
    "### Practice\n",
    "\n",
    "In groups, read the sklearn documentation or check the slide with models I show you in class. \n",
    "\n",
    "Pick a additional model from the sklearn. Compare this model with the three models I showed you in this notebook \n",
    "\n",
    "Feel free to copy and paste the code above, and add your new model and compare the results. \n",
    "\n",
    "## add your code"
   ]
  }
 ],
 "metadata": {
  "kernelspec": {
   "display_name": "Python 3 (ipykernel)",
   "language": "python",
   "name": "python3"
  },
  "language_info": {
   "codemirror_mode": {
    "name": "ipython",
    "version": 3
   },
   "file_extension": ".py",
   "mimetype": "text/x-python",
   "name": "python",
   "nbconvert_exporter": "python",
   "pygments_lexer": "ipython3",
   "version": "3.11.4"
  }
 },
 "nbformat": 4,
 "nbformat_minor": 5
}
